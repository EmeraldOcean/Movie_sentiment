{
 "cells": [
  {
   "cell_type": "code",
   "execution_count": 1,
   "id": "6af56f96",
   "metadata": {},
   "outputs": [],
   "source": [
    "import selenium\n",
    "from selenium import webdriver\n",
    "from selenium.webdriver import ActionChains\n",
    "from selenium.webdriver.common.keys import Keys\n",
    "from selenium.webdriver.common.by import By\n",
    "\n",
    "from selenium.webdriver.support import expected_conditions as ec\n",
    "from selenium.webdriver.support.ui import Select\n",
    "from selenium.webdriver.support.ui import WebDriverWait\n",
    "from selenium.common.exceptions import TimeoutException\n",
    "\n",
    "from selenium.webdriver.chrome.options import Options\n",
    "\n",
    "import time\n",
    "import pandas as pd\n",
    "import numpy as np\n",
    "import os"
   ]
  },
  {
   "cell_type": "code",
   "execution_count": 2,
   "id": "58369f4e",
   "metadata": {},
   "outputs": [],
   "source": [
    "data = pd.read_csv(\"2014_2023_ForeignMovie.csv\")"
   ]
  },
  {
   "cell_type": "code",
   "execution_count": 3,
   "id": "bec32976",
   "metadata": {},
   "outputs": [
    {
     "name": "stderr",
     "output_type": "stream",
     "text": [
      "C:\\Users\\samsung\\AppData\\Local\\Temp\\ipykernel_17204\\2734766996.py:4: DeprecationWarning: executable_path has been deprecated, please pass in a Service object\n",
      "  driver = webdriver.Chrome(executable_path='C:/chromedriver', options = webdriver_options)\n"
     ]
    }
   ],
   "source": [
    "webdriver_options = webdriver.ChromeOptions()\n",
    "# webdriver_options .add_argument('headless')\n",
    "\n",
    "driver = webdriver.Chrome(executable_path='C:/chromedriver', options = webdriver_options)\n",
    "wait = WebDriverWait(driver, 5)\n",
    "driver.get(\"https://www.kobis.or.kr/kobis/business/mast/mvie/searchMovieList.do\")"
   ]
  },
  {
   "cell_type": "markdown",
   "id": "de50ff15",
   "metadata": {},
   "source": [
    "### Poster"
   ]
  },
  {
   "cell_type": "code",
   "execution_count": null,
   "id": "05b7a488",
   "metadata": {
    "scrolled": true
   },
   "outputs": [],
   "source": [
    "url_list = []\n",
    "for i in range(len(data)):\n",
    "    print('{}번째 영화 이미지 추출중'.format(i))\n",
    "    try:\n",
    "        driver.refresh()\n",
    "        name = wait.until(ec.visibility_of_element_located((By.XPATH, \".//div[@class='item']/div/input\")))\n",
    "        name.clear()\n",
    "        name.send_keys(data['영화명'][i])\n",
    "        \n",
    "        if str(data['개봉일'][i]) != 'nan':\n",
    "            start_date = wait.until(ec.visibility_of_element_located((By.ID, \"cal_start\")))\n",
    "            start_date.send_keys(data['개봉일'][i])\n",
    "            start_date.send_keys(Keys.ENTER)\n",
    "        \n",
    "        button = wait.until(ec.visibility_of_element_located((By.XPATH, \".//button[@class='btn_blue']\")))\n",
    "        ActionChains(driver).move_to_element(button)\n",
    "        button.click()\n",
    "        \n",
    "        time.sleep(3)\n",
    "        info_button = wait.until(ec.visibility_of_element_located((By.XPATH, \".//span[@class='ellip']/a\")))\n",
    "        info_button.click()\n",
    "        \n",
    "        img_url = wait.until(ec.visibility_of_element_located((By.XPATH, \".//div[@class='item_tab basic']/div[2]/a\"))).get_attribute('href')\n",
    "        \n",
    "        url_list.append(img_url)\n",
    "        \n",
    "    except:\n",
    "        url_list.append(\"None\")"
   ]
  },
  {
   "cell_type": "code",
   "execution_count": 9,
   "id": "16a9d5e9",
   "metadata": {},
   "outputs": [],
   "source": [
    "data['포스터URL'] = url_list"
   ]
  },
  {
   "cell_type": "code",
   "execution_count": 11,
   "id": "47534ba6",
   "metadata": {},
   "outputs": [],
   "source": [
    "data.to_csv(\"./data/KOBIS_연도별박스오피스_2021_한국(2).csv\", index=False, encoding='utf-8-sig')"
   ]
  },
  {
   "cell_type": "markdown",
   "id": "b9bfc8f7",
   "metadata": {},
   "source": [
    "### Summary & Genre"
   ]
  },
  {
   "cell_type": "code",
   "execution_count": 1,
   "id": "797e9c1c",
   "metadata": {},
   "outputs": [],
   "source": [
    "import selenium\n",
    "from selenium import webdriver\n",
    "from selenium.webdriver import ActionChains\n",
    "from selenium.webdriver.common.keys import Keys\n",
    "from selenium.webdriver.common.by import By\n",
    "\n",
    "from selenium.webdriver.support import expected_conditions as ec\n",
    "from selenium.webdriver.support.ui import Select\n",
    "from selenium.webdriver.support.ui import WebDriverWait\n",
    "from selenium.common.exceptions import TimeoutException\n",
    "\n",
    "from selenium.webdriver.chrome.options import Options\n",
    "\n",
    "import time\n",
    "import pandas as pd\n",
    "import numpy as np"
   ]
  },
  {
   "cell_type": "code",
   "execution_count": 2,
   "id": "67749d07",
   "metadata": {},
   "outputs": [],
   "source": [
    "data = pd.read_csv(\"./data/kr_up.csv\")"
   ]
  },
  {
   "cell_type": "code",
   "execution_count": 3,
   "id": "c6e83f91",
   "metadata": {},
   "outputs": [
    {
     "data": {
      "text/html": [
       "<div>\n",
       "<style scoped>\n",
       "    .dataframe tbody tr th:only-of-type {\n",
       "        vertical-align: middle;\n",
       "    }\n",
       "\n",
       "    .dataframe tbody tr th {\n",
       "        vertical-align: top;\n",
       "    }\n",
       "\n",
       "    .dataframe thead th {\n",
       "        text-align: right;\n",
       "    }\n",
       "</style>\n",
       "<table border=\"1\" class=\"dataframe\">\n",
       "  <thead>\n",
       "    <tr style=\"text-align: right;\">\n",
       "      <th></th>\n",
       "      <th>순위</th>\n",
       "      <th>영화명</th>\n",
       "      <th>개봉일</th>\n",
       "      <th>매출액</th>\n",
       "      <th>매출액 점유율</th>\n",
       "      <th>관객수</th>\n",
       "      <th>스크린수</th>\n",
       "      <th>상영횟수</th>\n",
       "      <th>대표국적</th>\n",
       "      <th>국적</th>\n",
       "      <th>배급사</th>\n",
       "      <th>포스터URL</th>\n",
       "      <th>흥행년도기준</th>\n",
       "    </tr>\n",
       "  </thead>\n",
       "  <tbody>\n",
       "    <tr>\n",
       "      <th>0</th>\n",
       "      <td>1</td>\n",
       "      <td>도둑들</td>\n",
       "      <td>2012-07-25</td>\n",
       "      <td>93,664,808,500</td>\n",
       "      <td>11.2%</td>\n",
       "      <td>12,983,178</td>\n",
       "      <td>1,091</td>\n",
       "      <td>155,392</td>\n",
       "      <td>한국</td>\n",
       "      <td>한국,홍콩</td>\n",
       "      <td>(주)쇼박스</td>\n",
       "      <td>https://www.kobis.or.kr/common/mast/movie/2012...</td>\n",
       "      <td>2012.0</td>\n",
       "    </tr>\n",
       "    <tr>\n",
       "      <th>1</th>\n",
       "      <td>2</td>\n",
       "      <td>광해, 왕이 된 남자</td>\n",
       "      <td>2012-09-13</td>\n",
       "      <td>88,899,448,769</td>\n",
       "      <td>10.6%</td>\n",
       "      <td>12,319,390</td>\n",
       "      <td>1,001</td>\n",
       "      <td>203,400</td>\n",
       "      <td>한국</td>\n",
       "      <td>한국</td>\n",
       "      <td>(주)씨제이이엔엠</td>\n",
       "      <td>https://www.kobis.or.kr/common/mast/movie/2012...</td>\n",
       "      <td>2012.0</td>\n",
       "    </tr>\n",
       "    <tr>\n",
       "      <th>2</th>\n",
       "      <td>3</td>\n",
       "      <td>늑대소년</td>\n",
       "      <td>2012-10-31</td>\n",
       "      <td>46,590,107,000</td>\n",
       "      <td>5.6%</td>\n",
       "      <td>6,654,390</td>\n",
       "      <td>854</td>\n",
       "      <td>109,069</td>\n",
       "      <td>한국</td>\n",
       "      <td>한국</td>\n",
       "      <td>(주)씨제이이엔엠</td>\n",
       "      <td>https://www.kobis.or.kr/common/mast/movie/2012...</td>\n",
       "      <td>2012.0</td>\n",
       "    </tr>\n",
       "    <tr>\n",
       "      <th>3</th>\n",
       "      <td>4</td>\n",
       "      <td>바람과 함께 사라지다</td>\n",
       "      <td>2012-08-08</td>\n",
       "      <td>34,614,661,161</td>\n",
       "      <td>4.1%</td>\n",
       "      <td>4,909,937</td>\n",
       "      <td>694</td>\n",
       "      <td>78,591</td>\n",
       "      <td>한국</td>\n",
       "      <td>한국</td>\n",
       "      <td>(주)넥스트엔터테인먼트월드(NEW)</td>\n",
       "      <td>https://www.kobis.or.kr/common/mast/movie/2012...</td>\n",
       "      <td>2012.0</td>\n",
       "    </tr>\n",
       "    <tr>\n",
       "      <th>4</th>\n",
       "      <td>5</td>\n",
       "      <td>범죄와의 전쟁: 나쁜놈들 전성시대</td>\n",
       "      <td>2012-02-02</td>\n",
       "      <td>36,538,823,500</td>\n",
       "      <td>4.4%</td>\n",
       "      <td>4,719,872</td>\n",
       "      <td>713</td>\n",
       "      <td>91,889</td>\n",
       "      <td>한국</td>\n",
       "      <td>한국</td>\n",
       "      <td>(주)쇼박스</td>\n",
       "      <td>https://www.kobis.or.kr/common/mast/movie/2012...</td>\n",
       "      <td>2012.0</td>\n",
       "    </tr>\n",
       "  </tbody>\n",
       "</table>\n",
       "</div>"
      ],
      "text/plain": [
       "   순위                 영화명         개봉일             매출액 매출액 점유율         관객수  \\\n",
       "0   1                 도둑들  2012-07-25  93,664,808,500   11.2%  12,983,178   \n",
       "1   2         광해, 왕이 된 남자  2012-09-13  88,899,448,769   10.6%  12,319,390   \n",
       "2   3                늑대소년  2012-10-31  46,590,107,000    5.6%   6,654,390   \n",
       "3   4         바람과 함께 사라지다  2012-08-08  34,614,661,161    4.1%   4,909,937   \n",
       "4   5  범죄와의 전쟁: 나쁜놈들 전성시대  2012-02-02  36,538,823,500    4.4%   4,719,872   \n",
       "\n",
       "    스크린수     상영횟수 대표국적     국적                  배급사  \\\n",
       "0  1,091  155,392   한국  한국,홍콩               (주)쇼박스   \n",
       "1  1,001  203,400   한국     한국            (주)씨제이이엔엠   \n",
       "2    854  109,069   한국     한국            (주)씨제이이엔엠   \n",
       "3    694   78,591   한국     한국  (주)넥스트엔터테인먼트월드(NEW)   \n",
       "4    713   91,889   한국     한국               (주)쇼박스   \n",
       "\n",
       "                                              포스터URL  흥행년도기준  \n",
       "0  https://www.kobis.or.kr/common/mast/movie/2012...  2012.0  \n",
       "1  https://www.kobis.or.kr/common/mast/movie/2012...  2012.0  \n",
       "2  https://www.kobis.or.kr/common/mast/movie/2012...  2012.0  \n",
       "3  https://www.kobis.or.kr/common/mast/movie/2012...  2012.0  \n",
       "4  https://www.kobis.or.kr/common/mast/movie/2012...  2012.0  "
      ]
     },
     "execution_count": 3,
     "metadata": {},
     "output_type": "execute_result"
    }
   ],
   "source": [
    "data.head()"
   ]
  },
  {
   "cell_type": "code",
   "execution_count": 4,
   "id": "52b0da80",
   "metadata": {},
   "outputs": [],
   "source": [
    "webdriver_options = webdriver.ChromeOptions()\n",
    "webdriver_options .add_argument('headless')\n",
    "\n",
    "driver = webdriver.Chrome(executable_path='C:/Python/chromedriver', options = webdriver_options)\n",
    "wait = WebDriverWait(driver, 5)\n",
    "driver.get(\"https://www.kobis.or.kr/kobis/business/mast/mvie/searchMovieList.do\")"
   ]
  },
  {
   "cell_type": "code",
   "execution_count": 5,
   "id": "67897f7e",
   "metadata": {},
   "outputs": [],
   "source": [
    "summary_list = []\n",
    "genre_list = []"
   ]
  },
  {
   "cell_type": "code",
   "execution_count": 8,
   "id": "f329c273",
   "metadata": {},
   "outputs": [
    {
     "data": {
      "text/plain": [
       "'애니메이션'"
      ]
     },
     "execution_count": 8,
     "metadata": {},
     "output_type": "execute_result"
    }
   ],
   "source": [
    "button = wait.until(ec.visibility_of_element_located((By.XPATH, \".//button[@class='btn_blue']\")))\n",
    "ActionChains(driver).move_to_element(button)\n",
    "button.click()\n",
    "genre = wait.until(ec.visibility_of_element_located((By.XPATH, \"/html/body/div[1]/div[2]/div[2]/div[4]/table/tbody/tr[1]/td[7]/span\"))).get_attribute('title')\n",
    "genre"
   ]
  },
  {
   "cell_type": "code",
   "execution_count": 9,
   "id": "0a1d62db",
   "metadata": {},
   "outputs": [
    {
     "data": {
      "text/plain": [
       "'기후 환경 인식 및 지구 환경 오염 정화 연합 연례 회의에 참석한 토니 스타크와 브루스 배너는 지구 환경을 개선할 발명품을 출품하고 저스틴 해머와 승부를 겨룬다. 그런데 정체를 알 수 없는 비밀 요원의 등장으로 참가자들의 발명품 발표가 엉망이 되자 저스틴은 토니가 방해 공작을 폈다고 의심하기 시작하는데…'"
      ]
     },
     "execution_count": 9,
     "metadata": {},
     "output_type": "execute_result"
    }
   ],
   "source": [
    "info_button = wait.until(ec.visibility_of_element_located((By.XPATH, \".//span[@class='ellip']/a\")))\n",
    "info_button.click()\n",
    "summary = wait.until(ec.visibility_of_element_located((By.XPATH, \".//p[@class='desc_info']\"))).text\n",
    "summary"
   ]
  },
  {
   "cell_type": "code",
   "execution_count": null,
   "id": "409e1f16",
   "metadata": {
    "scrolled": true
   },
   "outputs": [],
   "source": [
    "for i in range(len(data)):\n",
    "    print('{}번째 영화 줄거리 추출중'.format(i))\n",
    "    driver.refresh()\n",
    "    name = wait.until(ec.visibility_of_element_located((By.XPATH, \".//div[@class='item']/div/input\")))\n",
    "    name.clear()\n",
    "    name.send_keys(data['영화명'][i])\n",
    "        \n",
    "    if str(data['개봉일'][i]) != 'nan':\n",
    "        start_date = wait.until(ec.visibility_of_element_located((By.ID, \"cal_start\")))\n",
    "        start_date.send_keys(data['개봉일'][i])\n",
    "        start_date.send_keys(Keys.ENTER)\n",
    "        \n",
    "    button = wait.until(ec.visibility_of_element_located((By.XPATH, \".//button[@class='btn_blue']\")))\n",
    "    ActionChains(driver).move_to_element(button)\n",
    "    button.click()\n",
    "        \n",
    "    time.sleep(3)\n",
    "    \n",
    "    try:\n",
    "        genre = wait.until(ec.visibility_of_element_located((By.XPATH, \"/html/body/div[1]/div[2]/div[2]/div[4]/table/tbody/tr[1]/td[7]/span\"))).get_attribute('title')\n",
    "        genre_list.append(genre)\n",
    "    except:\n",
    "        genre_list.append(\"None\")\n",
    "    \n",
    "    info_button = wait.until(ec.visibility_of_element_located((By.XPATH, \".//span[@class='ellip']/a\")))\n",
    "    info_button.click()\n",
    "        \n",
    "    try:\n",
    "        summary = wait.until(ec.visibility_of_element_located((By.XPATH, \".//p[@class='desc_info']\"))).text\n",
    "        summary_list.append(summary)\n",
    "    except:\n",
    "        summary_list.append(\"None\")"
   ]
  },
  {
   "cell_type": "code",
   "execution_count": 7,
   "id": "46ec9a64",
   "metadata": {},
   "outputs": [],
   "source": [
    "data['줄거리'] = summary_list\n",
    "data['장르'] = genre_list"
   ]
  },
  {
   "cell_type": "code",
   "execution_count": 8,
   "id": "d3393e7a",
   "metadata": {},
   "outputs": [
    {
     "data": {
      "text/html": [
       "<div>\n",
       "<style scoped>\n",
       "    .dataframe tbody tr th:only-of-type {\n",
       "        vertical-align: middle;\n",
       "    }\n",
       "\n",
       "    .dataframe tbody tr th {\n",
       "        vertical-align: top;\n",
       "    }\n",
       "\n",
       "    .dataframe thead th {\n",
       "        text-align: right;\n",
       "    }\n",
       "</style>\n",
       "<table border=\"1\" class=\"dataframe\">\n",
       "  <thead>\n",
       "    <tr style=\"text-align: right;\">\n",
       "      <th></th>\n",
       "      <th>순위</th>\n",
       "      <th>영화명</th>\n",
       "      <th>개봉일</th>\n",
       "      <th>매출액</th>\n",
       "      <th>매출액 점유율</th>\n",
       "      <th>관객수</th>\n",
       "      <th>스크린수</th>\n",
       "      <th>상영횟수</th>\n",
       "      <th>대표국적</th>\n",
       "      <th>국적</th>\n",
       "      <th>배급사</th>\n",
       "      <th>포스터URL</th>\n",
       "      <th>흥행년도기준</th>\n",
       "      <th>줄거리</th>\n",
       "      <th>장르</th>\n",
       "    </tr>\n",
       "  </thead>\n",
       "  <tbody>\n",
       "    <tr>\n",
       "      <th>0</th>\n",
       "      <td>1</td>\n",
       "      <td>도둑들</td>\n",
       "      <td>2012-07-25</td>\n",
       "      <td>93,664,808,500</td>\n",
       "      <td>11.2%</td>\n",
       "      <td>12,983,178</td>\n",
       "      <td>1,091</td>\n",
       "      <td>155,392</td>\n",
       "      <td>한국</td>\n",
       "      <td>한국,홍콩</td>\n",
       "      <td>(주)쇼박스</td>\n",
       "      <td>https://www.kobis.or.kr/common/mast/movie/2012...</td>\n",
       "      <td>2012.0</td>\n",
       "      <td>10인의 도둑, 1개의 다이아몬드\\n10인의 도둑, 1개의 다이아몬드 그들이 움직이...</td>\n",
       "      <td>액션,범죄</td>\n",
       "    </tr>\n",
       "    <tr>\n",
       "      <th>1</th>\n",
       "      <td>2</td>\n",
       "      <td>광해, 왕이 된 남자</td>\n",
       "      <td>2012-09-13</td>\n",
       "      <td>88,899,448,769</td>\n",
       "      <td>10.6%</td>\n",
       "      <td>12,319,390</td>\n",
       "      <td>1,001</td>\n",
       "      <td>203,400</td>\n",
       "      <td>한국</td>\n",
       "      <td>한국</td>\n",
       "      <td>(주)씨제이이엔엠</td>\n",
       "      <td>https://www.kobis.or.kr/common/mast/movie/2012...</td>\n",
       "      <td>2012.0</td>\n",
       "      <td>역사에 기록되지 않은 또 한 명의 광해\\n\\n왕위를 둘러싼 권력 다툼과 당쟁으로 혼...</td>\n",
       "      <td>사극,드라마</td>\n",
       "    </tr>\n",
       "    <tr>\n",
       "      <th>2</th>\n",
       "      <td>3</td>\n",
       "      <td>늑대소년</td>\n",
       "      <td>2012-10-31</td>\n",
       "      <td>46,590,107,000</td>\n",
       "      <td>5.6%</td>\n",
       "      <td>6,654,390</td>\n",
       "      <td>854</td>\n",
       "      <td>109,069</td>\n",
       "      <td>한국</td>\n",
       "      <td>한국</td>\n",
       "      <td>(주)씨제이이엔엠</td>\n",
       "      <td>https://www.kobis.or.kr/common/mast/movie/2012...</td>\n",
       "      <td>2012.0</td>\n",
       "      <td>체온 46도, 혈액형 판독불가…\\n세상에 없어야 할 위험한 존재 늑대소년, 운명적 ...</td>\n",
       "      <td>멜로/로맨스,드라마,판타지</td>\n",
       "    </tr>\n",
       "    <tr>\n",
       "      <th>3</th>\n",
       "      <td>4</td>\n",
       "      <td>바람과 함께 사라지다</td>\n",
       "      <td>2012-08-08</td>\n",
       "      <td>34,614,661,161</td>\n",
       "      <td>4.1%</td>\n",
       "      <td>4,909,937</td>\n",
       "      <td>694</td>\n",
       "      <td>78,591</td>\n",
       "      <td>한국</td>\n",
       "      <td>한국</td>\n",
       "      <td>(주)넥스트엔터테인먼트월드(NEW)</td>\n",
       "      <td>https://www.kobis.or.kr/common/mast/movie/2012...</td>\n",
       "      <td>2012.0</td>\n",
       "      <td>금보다 귀한 권력의 상징 ‘얼음’\\n\\n총명함은 타고났으나 우의정의 서자요, 잡서적...</td>\n",
       "      <td>코미디,사극</td>\n",
       "    </tr>\n",
       "    <tr>\n",
       "      <th>4</th>\n",
       "      <td>5</td>\n",
       "      <td>범죄와의 전쟁: 나쁜놈들 전성시대</td>\n",
       "      <td>2012-02-02</td>\n",
       "      <td>36,538,823,500</td>\n",
       "      <td>4.4%</td>\n",
       "      <td>4,719,872</td>\n",
       "      <td>713</td>\n",
       "      <td>91,889</td>\n",
       "      <td>한국</td>\n",
       "      <td>한국</td>\n",
       "      <td>(주)쇼박스</td>\n",
       "      <td>https://www.kobis.or.kr/common/mast/movie/2012...</td>\n",
       "      <td>2012.0</td>\n",
       "      <td>2012년 2월, ‘나쁜 놈들의 전성시대’가 시작된다!\\n\\n비리 세관 공무원 최익...</td>\n",
       "      <td>범죄,드라마</td>\n",
       "    </tr>\n",
       "  </tbody>\n",
       "</table>\n",
       "</div>"
      ],
      "text/plain": [
       "   순위                 영화명         개봉일             매출액 매출액 점유율         관객수  \\\n",
       "0   1                 도둑들  2012-07-25  93,664,808,500   11.2%  12,983,178   \n",
       "1   2         광해, 왕이 된 남자  2012-09-13  88,899,448,769   10.6%  12,319,390   \n",
       "2   3                늑대소년  2012-10-31  46,590,107,000    5.6%   6,654,390   \n",
       "3   4         바람과 함께 사라지다  2012-08-08  34,614,661,161    4.1%   4,909,937   \n",
       "4   5  범죄와의 전쟁: 나쁜놈들 전성시대  2012-02-02  36,538,823,500    4.4%   4,719,872   \n",
       "\n",
       "    스크린수     상영횟수 대표국적     국적                  배급사  \\\n",
       "0  1,091  155,392   한국  한국,홍콩               (주)쇼박스   \n",
       "1  1,001  203,400   한국     한국            (주)씨제이이엔엠   \n",
       "2    854  109,069   한국     한국            (주)씨제이이엔엠   \n",
       "3    694   78,591   한국     한국  (주)넥스트엔터테인먼트월드(NEW)   \n",
       "4    713   91,889   한국     한국               (주)쇼박스   \n",
       "\n",
       "                                              포스터URL  흥행년도기준  \\\n",
       "0  https://www.kobis.or.kr/common/mast/movie/2012...  2012.0   \n",
       "1  https://www.kobis.or.kr/common/mast/movie/2012...  2012.0   \n",
       "2  https://www.kobis.or.kr/common/mast/movie/2012...  2012.0   \n",
       "3  https://www.kobis.or.kr/common/mast/movie/2012...  2012.0   \n",
       "4  https://www.kobis.or.kr/common/mast/movie/2012...  2012.0   \n",
       "\n",
       "                                                 줄거리              장르  \n",
       "0  10인의 도둑, 1개의 다이아몬드\\n10인의 도둑, 1개의 다이아몬드 그들이 움직이...           액션,범죄  \n",
       "1  역사에 기록되지 않은 또 한 명의 광해\\n\\n왕위를 둘러싼 권력 다툼과 당쟁으로 혼...          사극,드라마  \n",
       "2  체온 46도, 혈액형 판독불가…\\n세상에 없어야 할 위험한 존재 늑대소년, 운명적 ...  멜로/로맨스,드라마,판타지  \n",
       "3  금보다 귀한 권력의 상징 ‘얼음’\\n\\n총명함은 타고났으나 우의정의 서자요, 잡서적...          코미디,사극  \n",
       "4  2012년 2월, ‘나쁜 놈들의 전성시대’가 시작된다!\\n\\n비리 세관 공무원 최익...          범죄,드라마  "
      ]
     },
     "execution_count": 8,
     "metadata": {},
     "output_type": "execute_result"
    }
   ],
   "source": [
    "data.head()"
   ]
  },
  {
   "cell_type": "code",
   "execution_count": 9,
   "id": "5e2486ae",
   "metadata": {},
   "outputs": [],
   "source": [
    "data.to_csv(\"./data/kr_up_ver2.csv\", index=False, encoding='utf-8-sig')"
   ]
  },
  {
   "cell_type": "code",
   "execution_count": null,
   "id": "9d6be69f",
   "metadata": {},
   "outputs": [],
   "source": []
  }
 ],
 "metadata": {
  "kernelspec": {
   "display_name": "Python 3 (ipykernel)",
   "language": "python",
   "name": "python3"
  },
  "language_info": {
   "codemirror_mode": {
    "name": "ipython",
    "version": 3
   },
   "file_extension": ".py",
   "mimetype": "text/x-python",
   "name": "python",
   "nbconvert_exporter": "python",
   "pygments_lexer": "ipython3",
   "version": "3.12.3"
  }
 },
 "nbformat": 4,
 "nbformat_minor": 5
}
