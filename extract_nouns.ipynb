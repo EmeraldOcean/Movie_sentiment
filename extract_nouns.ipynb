{
 "cells": [
  {
   "cell_type": "code",
   "execution_count": 2,
   "metadata": {},
   "outputs": [],
   "source": [
    "import pandas as pd\n",
    "import numpy as np\n",
    "import re\n",
    "\n",
    "from tqdm import tqdm\n",
    "tqdm.pandas()"
   ]
  },
  {
   "cell_type": "code",
   "execution_count": 3,
   "metadata": {},
   "outputs": [],
   "source": [
    "data_name = \"2014_2023_ForeignMovie_summary_preprocess\""
   ]
  },
  {
   "cell_type": "code",
   "execution_count": 4,
   "metadata": {},
   "outputs": [],
   "source": [
    "data = pd.read_csv(data_name + \".csv\")"
   ]
  },
  {
   "cell_type": "markdown",
   "metadata": {},
   "source": [
    "#### Remove Null Row & Split Top and Bottom"
   ]
  },
  {
   "cell_type": "code",
   "execution_count": 22,
   "metadata": {},
   "outputs": [],
   "source": [
    "rate = 0.3  # rate of top, bottom movies\n",
    "data = data.dropna()"
   ]
  },
  {
   "cell_type": "code",
   "execution_count": 25,
   "metadata": {},
   "outputs": [],
   "source": [
    "top_df = pd.DataFrame()\n",
    "bottom_df = pd.DataFrame()\n",
    "for year in range(2014, 2024):\n",
    "    year_df = data[data[\"개봉일\"].str.contains(str(year))]\n",
    "    year_df.sort_values(\"순위\")\n",
    "    num_data = int(len(year_df) * rate)\n",
    "    top = year_df[:num_data]\n",
    "    bottom = year_df[-num_data:]\n",
    "\n",
    "    if len(top_df) == 0:\n",
    "        top_df = top\n",
    "        bottom_df = bottom\n",
    "    else:\n",
    "        top_df = pd.concat([top_df, top])\n",
    "        bottom_df = pd.concat([bottom_df, bottom])\n",
    "\n",
    "top_df[\"흥행여부\"] = 1\n",
    "bottom_df[\"흥행여부\"] = 0\n",
    "total_data = pd.concat([top_df, bottom_df])"
   ]
  },
  {
   "cell_type": "markdown",
   "metadata": {},
   "source": [
    "#### Using OKT"
   ]
  },
  {
   "cell_type": "code",
   "execution_count": 5,
   "metadata": {},
   "outputs": [],
   "source": [
    "# from konlpy.tag import Okt\n",
    "# okt = Okt()\n",
    "# data[\"명사\"] = data[\"줄거리2\"].progress_map(lambda x:okt.nouns(str(x)))"
   ]
  },
  {
   "cell_type": "markdown",
   "metadata": {},
   "source": [
    "#### Using Kiwi"
   ]
  },
  {
   "cell_type": "code",
   "execution_count": 28,
   "metadata": {},
   "outputs": [],
   "source": [
    "from kiwipiepy import Kiwi\n",
    "kiwi = Kiwi()"
   ]
  },
  {
   "cell_type": "code",
   "execution_count": 29,
   "metadata": {},
   "outputs": [
    {
     "name": "stdout",
     "output_type": "stream",
     "text": [
      "[Token(form='얼어붙', tag='VV', start=0, len=3), Token(form='은', tag='ETM', start=3, len=1), Token(form='세상', tag='NNG', start=5, len=2), Token(form='을', tag='JKO', start=7, len=1), Token(form='녹이', tag='VV', start=9, len=2), Token(form='ᆯ', tag='ETM', start=10, len=1), Token(form='자매', tag='NNG', start=12, len=2), Token(form='가', tag='JKS', start=14, len=1), Token(form='오', tag='VV', start=16, len=1), Token(form='ᆫ다', tag='EC', start=16, len=2), Token(form='서로', tag='NNG', start=20, len=2), Token(form='가', tag='JKS', start=22, len=1), Token(form='최고', tag='NNG', start=24, len=2), Token(form='의', tag='JKG', start=26, len=1), Token(form='친구', tag='NNG', start=28, len=2), Token(form='이', tag='VCP', start=30, len=1), Token(form='었', tag='EP', start=30, len=1), Token(form='던', tag='ETM', start=31, len=1), Token(form='자매', tag='NNG', start=33, len=2), Token(form='엘사', tag='NNP', start=36, len=2), Token(form='오', tag='VV', start=38, len=1), Token(form='어', tag='EF', start=38, len=1), Token(form='안', tag='MAG', start=40, len=1), Token(form='나', tag='VV', start=41, len=1), Token(form='어', tag='EF', start=41, len=1), Token(form='하지만', tag='MAJ', start=43, len=3), Token(form='언니', tag='NNG', start=47, len=2), Token(form='엘사', tag='NNP', start=50, len=2), Token(form='에게', tag='JKB', start=52, len=2), Token(form='는', tag='JX', start=54, len=1), Token(form='하나', tag='NR', start=56, len=2), Token(form='뿐', tag='JX', start=58, len=1), Token(form='이', tag='VCP', start=59, len=1), Token(form='ᆫ', tag='ETM', start=59, len=1), Token(form='동생', tag='NNG', start=61, len=2), Token(form='에게', tag='JKB', start=63, len=2), Token(form='조차', tag='JX', start=65, len=2), Token(form='말', tag='NNG', start=68, len=1), Token(form='못하', tag='VX', start=70, len=2), Token(form='ᆯ', tag='ETM', start=71, len=1), Token(form='비밀', tag='NNG', start=73, len=2), Token(form='이', tag='JKS', start=75, len=1), Token(form='있', tag='VA', start=77, len=1), Token(form='다', tag='EF', start=78, len=1), Token(form='모든', tag='MM', start=80, len=2), Token(form='것', tag='NNB', start=83, len=1), Token(form='을', tag='JKO', start=84, len=1), Token(form='얼리', tag='VV', start=86, len=2), Token(form='어', tag='EC', start=87, len=1), Token(form='버리', tag='VX', start=88, len=2), Token(form='는', tag='ETM', start=90, len=1), Token(form='신비', tag='NNG', start=92, len=2), Token(form='롭', tag='XSA-I', start=94, len=2), Token(form='은', tag='ETM', start=95, len=1), Token(form='힘', tag='NNG', start=97, len=1), Token(form='이', tag='JKS', start=98, len=1), Token(form='바로', tag='MAG', start=100, len=2), Token(form='그것', tag='NP', start=103, len=2), Token(form='엘사', tag='NNP', start=106, len=2), Token(form='는', tag='JX', start=108, len=1), Token(form='통제', tag='NNG', start=110, len=2), Token(form='하', tag='XSV', start=112, len=1), Token(form='ᆯ', tag='ETM', start=112, len=1), Token(form='수', tag='NNB', start=114, len=1), Token(form='없', tag='VA', start=116, len=1), Token(form='는', tag='ETM', start=117, len=1), Token(form='자신', tag='NNG', start=119, len=2), Token(form='의', tag='JKG', start=121, len=1), Token(form='힘', tag='NNG', start=123, len=1), Token(form='이', tag='JKS', start=124, len=1), Token(form='두렵', tag='VA-I', start=126, len=3), Token(form='어', tag='EC', start=128, len=1), Token(form='왕국', tag='NNG', start=130, len=2), Token(form='을', tag='JKO', start=132, len=1), Token(form='떠나', tag='VV', start=134, len=2), Token(form='고', tag='EC', start=136, len=1), Token(form='얼', tag='VV', start=138, len=1), Token(form='어', tag='EC', start=139, len=1), Token(form='버리', tag='VX', start=140, len=2), Token(form='ᆫ', tag='ETM', start=141, len=1), Token(form='왕국', tag='NNG', start=143, len=2), Token(form='의', tag='JKG', start=145, len=1), Token(form='저주', tag='NNG', start=147, len=2), Token(form='를', tag='JKO', start=149, len=1), Token(form='풀', tag='VV', start=151, len=1), Token(form='기', tag='ETN', start=152, len=1), Token(form='위하', tag='VV', start=154, len=2), Token(form='어', tag='EC', start=155, len=1), Token(form='안', tag='MAG', start=157, len=1), Token(form='나', tag='VV', start=158, len=1), Token(form='는', tag='ETM', start=159, len=1), Token(form='언니', tag='NNG', start=161, len=2), Token(form='를', tag='JKO', start=163, len=1), Token(form='찾', tag='VV', start=165, len=1), Token(form='어', tag='EC', start=166, len=1), Token(form='환상', tag='NNG', start=168, len=2), Token(form='적', tag='XSN', start=170, len=1), Token(form='이', tag='VCP', start=171, len=1), Token(form='ᆫ', tag='ETM', start=171, len=1), Token(form='여정', tag='NNG', start=173, len=2), Token(form='을', tag='JKO', start=175, len=1), Token(form='떠나', tag='VV', start=177, len=2), Token(form='는데', tag='EC', start=179, len=2)]\n"
     ]
    }
   ],
   "source": [
    "print(kiwi.tokenize(total_data[\"줄거리2\"][0]))"
   ]
  },
  {
   "cell_type": "code",
   "execution_count": 30,
   "metadata": {},
   "outputs": [
    {
     "name": "stderr",
     "output_type": "stream",
     "text": [
      "  0%|          | 0/6718 [00:00<?, ?it/s]"
     ]
    },
    {
     "name": "stderr",
     "output_type": "stream",
     "text": [
      "100%|██████████| 6718/6718 [01:43<00:00, 64.95it/s] \n"
     ]
    }
   ],
   "source": [
    "token_list = total_data[\"줄거리2\"].progress_map(lambda x: kiwi.tokenize(str(x)))"
   ]
  },
  {
   "cell_type": "code",
   "execution_count": 31,
   "metadata": {},
   "outputs": [],
   "source": [
    "word_list = []\n",
    "for token in token_list:\n",
    "    temp_list = []\n",
    "    for tok in token:\n",
    "        temp_list.append((tok.form, tok.tag))\n",
    "    word_list.append(temp_list)"
   ]
  },
  {
   "cell_type": "code",
   "execution_count": 32,
   "metadata": {},
   "outputs": [
    {
     "name": "stderr",
     "output_type": "stream",
     "text": [
      "100%|██████████| 6718/6718 [00:00<00:00, 125440.55it/s]\n"
     ]
    }
   ],
   "source": [
    "# extract only nouns\n",
    "noun_list = []\n",
    "for token in word_list:\n",
    "    temp_list = []\n",
    "    for form, tag in token:\n",
    "        if tag in [\"NNG\", \"NNP\", \"NP\"]:\n",
    "            temp_list.append(form)\n",
    "    noun_list.append(temp_list)\n",
    "total_data[\"명사\"] = noun_list\n",
    "total_data[\"명사\"] = total_data[\"명사\"].progress_map(lambda x:\",\".join(x))"
   ]
  },
  {
   "cell_type": "code",
   "execution_count": 34,
   "metadata": {},
   "outputs": [
    {
     "data": {
      "text/html": [
       "<div>\n",
       "<style scoped>\n",
       "    .dataframe tbody tr th:only-of-type {\n",
       "        vertical-align: middle;\n",
       "    }\n",
       "\n",
       "    .dataframe tbody tr th {\n",
       "        vertical-align: top;\n",
       "    }\n",
       "\n",
       "    .dataframe thead th {\n",
       "        text-align: right;\n",
       "    }\n",
       "</style>\n",
       "<table border=\"1\" class=\"dataframe\">\n",
       "  <thead>\n",
       "    <tr style=\"text-align: right;\">\n",
       "      <th></th>\n",
       "      <th>순위</th>\n",
       "      <th>영화명</th>\n",
       "      <th>개봉일</th>\n",
       "      <th>매출액</th>\n",
       "      <th>매출액 점유율</th>\n",
       "      <th>관객수</th>\n",
       "      <th>스크린수</th>\n",
       "      <th>대표국적</th>\n",
       "      <th>국적</th>\n",
       "      <th>배급사</th>\n",
       "      <th>줄거리</th>\n",
       "      <th>장르</th>\n",
       "      <th>줄거리2</th>\n",
       "      <th>흥행여부</th>\n",
       "      <th>명사</th>\n",
       "    </tr>\n",
       "  </thead>\n",
       "  <tbody>\n",
       "    <tr>\n",
       "      <th>0</th>\n",
       "      <td>1</td>\n",
       "      <td>겨울왕국</td>\n",
       "      <td>2014-01-16</td>\n",
       "      <td>82461504400</td>\n",
       "      <td>0.098</td>\n",
       "      <td>10296101</td>\n",
       "      <td>1010.0</td>\n",
       "      <td>미국</td>\n",
       "      <td>미국</td>\n",
       "      <td>월트디즈니컴퍼니코리아 유한책임회사,소니픽쳐스릴리징월트디즈니스튜디오스코리아(주)</td>\n",
       "      <td>얼어붙은 세상을 녹일 자매가 온다!  서로가 최고의 친구였던 자매 ‘엘사’와 ‘안나...</td>\n",
       "      <td>애니메이션,어드벤처,가족,코미디,뮤지컬,판타지</td>\n",
       "      <td>얼어붙은 세상을 녹일 자매가 온다  서로가 최고의 친구였던 자매 엘사와 안나 하지만...</td>\n",
       "      <td>1</td>\n",
       "      <td>세상,자매,서로,최고,친구,자매,엘사,언니,엘사,동생,말,비밀,신비,힘,그것,엘사,...</td>\n",
       "    </tr>\n",
       "    <tr>\n",
       "      <th>1</th>\n",
       "      <td>2</td>\n",
       "      <td>인터스텔라</td>\n",
       "      <td>2014-11-06</td>\n",
       "      <td>80671448300</td>\n",
       "      <td>0.096</td>\n",
       "      <td>10105249</td>\n",
       "      <td>1342.0</td>\n",
       "      <td>미국</td>\n",
       "      <td>미국,영국</td>\n",
       "      <td>워너브러더스 코리아(주)</td>\n",
       "      <td>“우린 답을 찾을 거야, 늘 그랬듯이” 세계 각국의 정부와 경제가 완전히 붕괴된 미...</td>\n",
       "      <td>SF</td>\n",
       "      <td>우린 답을 찾을 거야 늘 그랬듯이 세계 각국의 정부와 경제가 완전히 붕괴된 미래가 ...</td>\n",
       "      <td>1</td>\n",
       "      <td>우리,답,세계,각국,정부,경제,붕괴,미래,세기,잘못,세계,식량,부족,해체,이때,시공...</td>\n",
       "    </tr>\n",
       "    <tr>\n",
       "      <th>2</th>\n",
       "      <td>3</td>\n",
       "      <td>트랜스포머: 사라진 시대</td>\n",
       "      <td>2014-06-25</td>\n",
       "      <td>44012272845</td>\n",
       "      <td>0.052</td>\n",
       "      <td>5295801</td>\n",
       "      <td>1602.0</td>\n",
       "      <td>미국</td>\n",
       "      <td>미국</td>\n",
       "      <td>(주)씨제이이엔엠</td>\n",
       "      <td>트랜스포머의 시대는 끝났다!  시카고에서 벌어진 오토봇과 디셉티콘의 전투로 인해 수...</td>\n",
       "      <td>액션,SF,어드벤처</td>\n",
       "      <td>트랜스포머의 시대는 끝났다  시카고에서 벌어진 오토봇과 디셉티콘의 전투로 인해 수많...</td>\n",
       "      <td>1</td>\n",
       "      <td>트랜스포머,시대,시카고,오토봇,디셉티콘,전투,사상자,발생,도시,파괴,정부,일부,오토...</td>\n",
       "    </tr>\n",
       "  </tbody>\n",
       "</table>\n",
       "</div>"
      ],
      "text/plain": [
       "   순위            영화명         개봉일         매출액   매출액 점유율       관객수    스크린수 대표국적  \\\n",
       "0   1           겨울왕국  2014-01-16  82461504400    0.098  10296101  1010.0   미국   \n",
       "1   2          인터스텔라  2014-11-06  80671448300    0.096  10105249  1342.0   미국   \n",
       "2   3  트랜스포머: 사라진 시대  2014-06-25  44012272845    0.052   5295801  1602.0   미국   \n",
       "\n",
       "      국적                                          배급사  \\\n",
       "0     미국  월트디즈니컴퍼니코리아 유한책임회사,소니픽쳐스릴리징월트디즈니스튜디오스코리아(주)   \n",
       "1  미국,영국                                워너브러더스 코리아(주)   \n",
       "2     미국                                    (주)씨제이이엔엠   \n",
       "\n",
       "                                                 줄거리  \\\n",
       "0  얼어붙은 세상을 녹일 자매가 온다!  서로가 최고의 친구였던 자매 ‘엘사’와 ‘안나...   \n",
       "1  “우린 답을 찾을 거야, 늘 그랬듯이” 세계 각국의 정부와 경제가 완전히 붕괴된 미...   \n",
       "2  트랜스포머의 시대는 끝났다!  시카고에서 벌어진 오토봇과 디셉티콘의 전투로 인해 수...   \n",
       "\n",
       "                          장르  \\\n",
       "0  애니메이션,어드벤처,가족,코미디,뮤지컬,판타지   \n",
       "1                         SF   \n",
       "2                 액션,SF,어드벤처   \n",
       "\n",
       "                                                줄거리2  흥행여부  \\\n",
       "0  얼어붙은 세상을 녹일 자매가 온다  서로가 최고의 친구였던 자매 엘사와 안나 하지만...     1   \n",
       "1  우린 답을 찾을 거야 늘 그랬듯이 세계 각국의 정부와 경제가 완전히 붕괴된 미래가 ...     1   \n",
       "2  트랜스포머의 시대는 끝났다  시카고에서 벌어진 오토봇과 디셉티콘의 전투로 인해 수많...     1   \n",
       "\n",
       "                                                  명사  \n",
       "0  세상,자매,서로,최고,친구,자매,엘사,언니,엘사,동생,말,비밀,신비,힘,그것,엘사,...  \n",
       "1  우리,답,세계,각국,정부,경제,붕괴,미래,세기,잘못,세계,식량,부족,해체,이때,시공...  \n",
       "2  트랜스포머,시대,시카고,오토봇,디셉티콘,전투,사상자,발생,도시,파괴,정부,일부,오토...  "
      ]
     },
     "execution_count": 34,
     "metadata": {},
     "output_type": "execute_result"
    }
   ],
   "source": [
    "total_data.head(3)"
   ]
  },
  {
   "cell_type": "code",
   "execution_count": 35,
   "metadata": {},
   "outputs": [],
   "source": [
    "total_data.to_csv(f\"{data_name}_top_bottom.csv\", index=False, encoding=\"utf-8-sig\")"
   ]
  },
  {
   "cell_type": "code",
   "execution_count": null,
   "metadata": {},
   "outputs": [],
   "source": []
  }
 ],
 "metadata": {
  "kernelspec": {
   "display_name": "movie_env",
   "language": "python",
   "name": "python3"
  },
  "language_info": {
   "codemirror_mode": {
    "name": "ipython",
    "version": 3
   },
   "file_extension": ".py",
   "mimetype": "text/x-python",
   "name": "python",
   "nbconvert_exporter": "python",
   "pygments_lexer": "ipython3",
   "version": "3.12.3"
  }
 },
 "nbformat": 4,
 "nbformat_minor": 2
}
